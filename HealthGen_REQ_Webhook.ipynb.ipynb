{
 "cells": [
  {
   "cell_type": "markdown",
   "metadata": {
    "application/vnd.databricks.v1+cell": {
     "cellMetadata": {},
     "inputWidgets": {},
     "nuid": "c509eddc-ee74-4612-970b-9c961354696f",
     "showTitle": false,
     "title": ""
    }
   },
   "source": [
    "# Projeto Final | Extração de Dados I\n",
    "----\n",
    "**Sistema de Monitoramento de Avanços no Campo da Genômica**"
   ]
  },
  {
   "cell_type": "markdown",
   "metadata": {
    "application/vnd.databricks.v1+cell": {
     "cellMetadata": {},
     "inputWidgets": {},
     "nuid": "c54b9419-c3c8-46ac-9719-52ed188d2497",
     "showTitle": false,
     "title": ""
    }
   },
   "source": [
    "<div style=\"background-color: #f2f2f2; text-align: center; padding: 10px;\">\n",
    "  <h3>Script para enviar a requisição para o Webhook </h3>\n",
    "</div>"
   ]
  },
  {
   "cell_type": "markdown",
   "metadata": {
    "application/vnd.databricks.v1+cell": {
     "cellMetadata": {},
     "inputWidgets": {},
     "nuid": "e4758a1a-e982-4d42-802a-19394a9227df",
     "showTitle": false,
     "title": ""
    }
   },
   "source": [
    "%------------------------------------------------------------------------------------------------------%<br>\n",
    "<br>\n",
    "``Autores:`` Andrea Elias, Anthony Heimlich, Éverton Donato, Julia Midori e Luana Kruger  <br>\n",
    "<br>\n",
    "``Instituição:`` ADA Tech<br>\n",
    "<br>\n",
    "``Projeto:`` Santander Coders 2023.2<br>\n",
    "<br>\n",
    "``Descrição:`` Este código implementa um sistema de monitoramento de avanços no campo da genômica. O sistema coleta, analisa e apresenta as últimas notícias relacionadas à genômica e à medicina personalizada. <br>\n",
    "<br>\n",
    "``Repositório GitHub:`` https://github.com/evertondcavalcante/PD-I_Santander_Coders23  <br>\n",
    "<br>\n",
    "\n",
    "%------------------------------------------------------------------------------------------------------%"
   ]
  },
  {
   "cell_type": "markdown",
   "metadata": {
    "application/vnd.databricks.v1+cell": {
     "cellMetadata": {},
     "inputWidgets": {},
     "nuid": "a185eb3e-90f1-4df6-8de6-037399c1f745",
     "showTitle": false,
     "title": ""
    }
   },
   "source": [
    "## Carregar bibliotecas"
   ]
  },
  {
   "cell_type": "code",
   "execution_count": null,
   "metadata": {
    "application/vnd.databricks.v1+cell": {
     "cellMetadata": {
      "byteLimit": 2048000,
      "rowLimit": 10000
     },
     "inputWidgets": {},
     "nuid": "9addd3d7-33c4-4e6b-aea2-021e3f33eaf6",
     "showTitle": false,
     "title": ""
    }
   },
   "outputs": [],
   "source": [
    "import requests\n",
    "import json\n",
    "import time"
   ]
  },
  {
   "cell_type": "markdown",
   "metadata": {
    "application/vnd.databricks.v1+cell": {
     "cellMetadata": {},
     "inputWidgets": {},
     "nuid": "6340fe42-771b-439f-892e-0ce6256cf94f",
     "showTitle": false,
     "title": ""
    }
   },
   "source": [
    "## Carregar Funções"
   ]
  },
  {
   "cell_type": "markdown",
   "metadata": {
    "application/vnd.databricks.v1+cell": {
     "cellMetadata": {},
     "inputWidgets": {},
     "nuid": "66b8a68d-b3f3-45f7-8e81-c7e5539be74e",
     "showTitle": false,
     "title": ""
    }
   },
   "source": [
    "#### Função para contagem do tempo"
   ]
  },
  {
   "cell_type": "code",
   "execution_count": null,
   "metadata": {
    "application/vnd.databricks.v1+cell": {
     "cellMetadata": {},
     "inputWidgets": {},
     "nuid": "5e0360d5-9af2-450a-b968-9c1b3dbd09e4",
     "showTitle": false,
     "title": ""
    }
   },
   "outputs": [],
   "source": [
    "def timer(tempo_proc):\n",
    "\n",
    "    print(\"Iniciando a contagem\")\n",
    "    \n",
    "    for t in range(1, tempo_proc+1):\n",
    "        print(t)\n",
    "        time.sleep(1)\n",
    "    print(\"Contagem finalizada\")"
   ]
  },
  {
   "cell_type": "markdown",
   "metadata": {
    "application/vnd.databricks.v1+cell": {
     "cellMetadata": {},
     "inputWidgets": {},
     "nuid": "c9dab2e9-8f2d-4b1a-810d-08e26139c76c",
     "showTitle": false,
     "title": ""
    }
   },
   "source": [
    "## Definição dos parâmetros"
   ]
  },
  {
   "cell_type": "code",
   "execution_count": null,
   "metadata": {
    "application/vnd.databricks.v1+cell": {
     "cellMetadata": {},
     "inputWidgets": {},
     "nuid": "e352e571-68e0-44e0-a3f0-f433f068e8d3",
     "showTitle": false,
     "title": ""
    }
   },
   "outputs": [],
   "source": [
    "## Definição do parametro do contador \n",
    "tempo_proc = 3600 # 1 hora"
   ]
  },
  {
   "cell_type": "markdown",
   "metadata": {
    "application/vnd.databricks.v1+cell": {
     "cellMetadata": {},
     "inputWidgets": {},
     "nuid": "4c467fa7-fd15-4dd1-9a10-1a69ca99db86",
     "showTitle": false,
     "title": ""
    }
   },
   "source": [
    "## Enviando a requisição para o Webhook "
   ]
  },
  {
   "cell_type": "code",
   "execution_count": null,
   "metadata": {
    "application/vnd.databricks.v1+cell": {
     "cellMetadata": {
      "byteLimit": 2048000,
      "rowLimit": 10000
     },
     "inputWidgets": {},
     "nuid": "f51c0b35-3b59-445c-8909-bc332bdb38ef",
     "showTitle": false,
     "title": ""
    }
   },
   "outputs": [
    {
     "name": "stdout",
     "output_type": "stream",
     "text": [
      "Webhook enviado com sucesso.\n"
     ]
    }
   ],
   "source": [
    "# loop infinitivo chamando o contador e o ELT \n",
    "while 1==1:\n",
    "    \n",
    "    # URL da API webhook\n",
    "    url = \"http://localhost:5000/webhook\"\n",
    "\n",
    "    # Dados a serem enviados na requisição\n",
    "    data = {\"message\": \"Processar o ELT\"}\n",
    "\n",
    "    # Enviando a requisição POST para a API\n",
    "    response = req.post(url, json=data)\n",
    "\n",
    "    # Verificando o status da resposta\n",
    "    if response.status_code == 200:\n",
    "        # Se o status é 200, a requisição foi bem-sucedida\n",
    "        print(\"Webhook enviado com sucesso.\")\n",
    "    else:\n",
    "        # Caso contrário, houve um erro na requisição\n",
    "        print(\"Erro ao enviar webhook.\")\n",
    "    \n",
    "    tempo_proc = 5\n",
    "    timer(tempo_proc)"
   ]
  }
 ],
 "metadata": {
  "application/vnd.databricks.v1+notebook": {
   "dashboards": [],
   "language": "python",
   "notebookMetadata": {
    "pythonIndentUnit": 4
   },
   "notebookName": "HealthGen_REQ_Webhook.ipynb",
   "widgets": {}
  },
  "language_info": {
   "name": "python"
  }
 },
 "nbformat": 4,
 "nbformat_minor": 0
}
